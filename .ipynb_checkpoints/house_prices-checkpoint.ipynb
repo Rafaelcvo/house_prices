{
 "cells": [
  {
   "cell_type": "markdown",
   "metadata": {},
   "source": [
    "Desafio do Kaggle sobre o preço de casa."
   ]
  },
  {
   "cell_type": "markdown",
   "metadata": {},
   "source": [
    "MSSubClass: identifica o tipo de moradia envolvida na venda.<br>\n",
    "MSZoning: identifica a classificação geral de zoneamento da venda.<br>\n",
    "LotFrontage: pés lineares de rua conectados à propriedade<br>\n",
    "LotArea: tamanho do lote em pés quadrados<br>\n",
    "Street: Tipo de acesso rodoviário à propriedade<br>\n",
    "Alley: Tipo de acesso do beco à propriedade<br>\n",
    "LotShape: forma geral da propriedade<br>\n",
    "LandContour: Planicidade da propriedade<br>\n",
    "Utilities: Tipo de utilitários disponíveis<br>\n",
    "LotConfig: configuração do lote<br>\n",
    "LandSlope: declive de propriedade<br>\n",
    "Neighborhood: localizações físicas dentro dos limites da cidade de Ames<br>\n",
    "Condition1: Proximidade de várias condições<br>\n",
    "Condition2: Proximidade a várias condições (se houver mais de uma)<br>\n",
    "BldgType: Tipo de moradia<br>\n",
    "HouseStyle: Estilo de habitação<br>\n",
    "OverallQual: Classifica o material geral e o acabamento da casa<br>\n",
    "OverallCond: Classifica a condição geral da casa<br>\n",
    "YearBuilt: Data de construção original<br>\n",
    "YearRemodAdd: data de remodelação (igual à data de construção, se não houver reforma ou acréscimo)<br>\n",
    "RoofStyle: Tipo de telhado<br>\n",
    "RoofMatl: Material do telhado<br>\n",
    "Exterior1st: revestimento exterior em casa<br>\n",
    "Exterior2nd: Cobertura externa da casa (se houver mais de um material)<br>\n",
    "MasVnrType: Tipo de folheado de alvenaria<br>\n",
    "MasVnrArea: Área de folheado de alvenaria em pés quadrados<br>\n",
    "ExterQual: Avalia a qualidade do material no exterior<br>\n",
    "ExterCond: Avalia a condição atual do material no exterior<br>\n",
    "Foundation: Tipo de fundação<br>\n",
    "BsmtQual: Avalia a altura do porão<br>\n",
    "BsmtCond: Avalia o estado geral do porão<br>\n",
    "BsmtExposure: Refere-se a greve ou paredes ao nível do jardim<br>\n",
    "BsmtFinType1: Classificação da área final do porão<br>\n",
    "BsmtFinSF1: pés quadrados com acabamento tipo 1<br>\n",
    "BsmtFinType2: Classificação da área concluída do porão (se houver vários tipos)<br>\n",
    "BsmtFinSF2: Tipo 2 pés quadrados com acabamento<br>\n",
    "BsmtUnfSF: pés quadrados inacabados da área do porão<br>\n",
    "TotalBsmtSF: pés quadrados totais da área do porão<br>\n",
    "Heating: Tipo de aquecimento<br>\n",
    "HeatingQC: Qualidade e condição do aquecimento<br>\n",
    "CentralAir: ar condicionado central<br>\n",
    "Electrical: Sistema elétrico<br>\n",
    "1stFlrSF: Primeiro andar pés quadrados<br>\n",
    "2ndFlrSF: Segundo andar, pés quadrados<br>\n",
    "LowQualFinSF: pés quadrados acabados de baixa qualidade (todos os pisos)<br>\n",
    "GrLivArea: Área útil acima do nível do solo (pés quadrados)<br>\n",
    "BsmtFullBath: banheiros completos no porão<br>\n",
    "BsmtHalfBath: lavabos no porão<br>\n",
    "FullBath: banheiros completos acima da série<br>\n",
    "HalfBath: banhos de meia acima da série<br>\n",
    "Bedroom: Quartos acima da classe (NÃO inclui quartos no porão)<br>\n",
    "Kitchen: Cozinhas acima da classe<br>\n",
    "KitchenQual: Qualidade da cozinha<br>\n",
    "TotRmsAbvGrd: total de quartos acima da classe (não inclui banheiros)<br>\n",
    "Functional: Funcionalidade doméstica (suponha que seja típico, a menos que sejam necessárias deduções)<br>\n",
    "Fireplaces: Número de lareiras<br>\n",
    "FireplaceQu: qualidade da lareira<br>\n",
    "GarageType: Localização da garagem<br>\n",
    "GarageYrBlt: ano em que a garagem foi construída<br>\n",
    "GarageFinish: Acabamento interior da garagem<br>\n",
    "GarageCars: tamanho da garagem em capacidade do carro<br>\n",
    "GarageArea: tamanho da garagem em pés quadrados<br>\n",
    "GarageQual: Qualidade da garagem<br>\n",
    "GarageCond: Condição de garagem<br>\n",
    "PavedDrive: Entrada de automóveis pavimentada<br>\n",
    "WoodDeckSF: área de deck de madeira em pés quadrados<br>\n",
    "OpenPorchSF: área de varanda aberta em pés quadrados<br>\n",
    "EnclosedPorch: área de alpendre fechado em pés quadrados<br>\n",
    "3SsnPorch: Área da varanda de três estações em pés quadrados<br>\n",
    "ScreenPorch: Área da varanda da tela em pés quadrados<br>\n",
    "PoolArea: Área da piscina em pés quadrados<br>\n",
    "PoolQC: Qualidade da piscina<br>\n",
    "Fence: qualidade da cerca<br>\n",
    "MiscFeature: Recurso variado não coberto em outras categorias<br>\n",
    "MiscVal: $ Valor do recurso diverso<br>\n",
    "MoSold: Mês Vendido (MM)<br>\n",
    "YrSold: Ano de venda (AAAA)<br>\n",
    "SaleType: Tipo de venda<br>\n",
    "SaleCondition: Venda"
   ]
  },
  {
   "cell_type": "code",
   "execution_count": 77,
   "metadata": {},
   "outputs": [],
   "source": [
    "# Importando os pacotes\n",
    "\n",
    "import numpy as np\n",
    "import pandas as pd\n",
    "import matplotlib.pyplot as plt\n",
    "import seaborn as sns\n",
    "%matplotlib inline\n",
    "pd.set_option(\"display.max_columns\", 200)"
   ]
  },
  {
   "cell_type": "code",
   "execution_count": 190,
   "metadata": {},
   "outputs": [],
   "source": [
    "# Lendo os arquivos\n",
    "\n",
    "sample = pd.read_csv('datasets/sample_submission.csv')\n",
    "train = pd.read_csv('datasets/train.csv')\n",
    "test = pd.read_csv('datasets/test.csv')"
   ]
  },
  {
   "cell_type": "code",
   "execution_count": 15,
   "metadata": {},
   "outputs": [
    {
     "data": {
      "text/plain": [
       "Index(['Id', 'MSSubClass', 'MSZoning', 'LotFrontage', 'LotArea', 'Street',\n",
       "       'Alley', 'LotShape', 'LandContour', 'Utilities', 'LotConfig',\n",
       "       'LandSlope', 'Neighborhood', 'Condition1', 'Condition2', 'BldgType',\n",
       "       'HouseStyle', 'OverallQual', 'OverallCond', 'YearBuilt', 'YearRemodAdd',\n",
       "       'RoofStyle', 'RoofMatl', 'Exterior1st', 'Exterior2nd', 'MasVnrType',\n",
       "       'MasVnrArea', 'ExterQual', 'ExterCond', 'Foundation', 'BsmtQual',\n",
       "       'BsmtCond', 'BsmtExposure', 'BsmtFinType1', 'BsmtFinSF1',\n",
       "       'BsmtFinType2', 'BsmtFinSF2', 'BsmtUnfSF', 'TotalBsmtSF', 'Heating',\n",
       "       'HeatingQC', 'CentralAir', 'Electrical', '1stFlrSF', '2ndFlrSF',\n",
       "       'LowQualFinSF', 'GrLivArea', 'BsmtFullBath', 'BsmtHalfBath', 'FullBath',\n",
       "       'HalfBath', 'BedroomAbvGr', 'KitchenAbvGr', 'KitchenQual',\n",
       "       'TotRmsAbvGrd', 'Functional', 'Fireplaces', 'FireplaceQu', 'GarageType',\n",
       "       'GarageYrBlt', 'GarageFinish', 'GarageCars', 'GarageArea', 'GarageQual',\n",
       "       'GarageCond', 'PavedDrive', 'WoodDeckSF', 'OpenPorchSF',\n",
       "       'EnclosedPorch', '3SsnPorch', 'ScreenPorch', 'PoolArea', 'PoolQC',\n",
       "       'Fence', 'MiscFeature', 'MiscVal', 'MoSold', 'YrSold', 'SaleType',\n",
       "       'SaleCondition', 'SalePrice'],\n",
       "      dtype='object')"
      ]
     },
     "execution_count": 15,
     "metadata": {},
     "output_type": "execute_result"
    }
   ],
   "source": [
    "train.columns"
   ]
  },
  {
   "cell_type": "code",
   "execution_count": 17,
   "metadata": {},
   "outputs": [],
   "source": [
    "# train.hist(figsize=(20,40))\n",
    "# plt.show()"
   ]
  },
  {
   "cell_type": "code",
   "execution_count": 19,
   "metadata": {},
   "outputs": [
    {
     "data": {
      "text/plain": [
       "Id                  0\n",
       "MSSubClass          0\n",
       "MSZoning            0\n",
       "LotFrontage       259\n",
       "LotArea             0\n",
       "Street              0\n",
       "Alley            1369\n",
       "LotShape            0\n",
       "LandContour         0\n",
       "Utilities           0\n",
       "LotConfig           0\n",
       "LandSlope           0\n",
       "Neighborhood        0\n",
       "Condition1          0\n",
       "Condition2          0\n",
       "BldgType            0\n",
       "HouseStyle          0\n",
       "OverallQual         0\n",
       "OverallCond         0\n",
       "YearBuilt           0\n",
       "YearRemodAdd        0\n",
       "RoofStyle           0\n",
       "RoofMatl            0\n",
       "Exterior1st         0\n",
       "Exterior2nd         0\n",
       "MasVnrType          8\n",
       "MasVnrArea          8\n",
       "ExterQual           0\n",
       "ExterCond           0\n",
       "Foundation          0\n",
       "                 ... \n",
       "BedroomAbvGr        0\n",
       "KitchenAbvGr        0\n",
       "KitchenQual         0\n",
       "TotRmsAbvGrd        0\n",
       "Functional          0\n",
       "Fireplaces          0\n",
       "FireplaceQu       690\n",
       "GarageType         81\n",
       "GarageYrBlt        81\n",
       "GarageFinish       81\n",
       "GarageCars          0\n",
       "GarageArea          0\n",
       "GarageQual         81\n",
       "GarageCond         81\n",
       "PavedDrive          0\n",
       "WoodDeckSF          0\n",
       "OpenPorchSF         0\n",
       "EnclosedPorch       0\n",
       "3SsnPorch           0\n",
       "ScreenPorch         0\n",
       "PoolArea            0\n",
       "PoolQC           1453\n",
       "Fence            1179\n",
       "MiscFeature      1406\n",
       "MiscVal             0\n",
       "MoSold              0\n",
       "YrSold              0\n",
       "SaleType            0\n",
       "SaleCondition       0\n",
       "SalePrice           0\n",
       "Length: 81, dtype: int64"
      ]
     },
     "execution_count": 19,
     "metadata": {},
     "output_type": "execute_result"
    }
   ],
   "source": [
    "train.isna().sum()"
   ]
  },
  {
   "cell_type": "code",
   "execution_count": 9,
   "metadata": {},
   "outputs": [],
   "source": [
    "corr_mat = df.corr()"
   ]
  },
  {
   "cell_type": "code",
   "execution_count": 10,
   "metadata": {},
   "outputs": [
    {
     "data": {
      "text/plain": [
       "SalePrice        1.000000\n",
       "OverallQual      0.790982\n",
       "GrLivArea        0.708624\n",
       "GarageCars       0.640409\n",
       "GarageArea       0.623431\n",
       "TotalBsmtSF      0.613581\n",
       "1stFlrSF         0.605852\n",
       "FullBath         0.560664\n",
       "TotRmsAbvGrd     0.533723\n",
       "YearBuilt        0.522897\n",
       "YearRemodAdd     0.507101\n",
       "GarageYrBlt      0.486362\n",
       "MasVnrArea       0.477493\n",
       "Fireplaces       0.466929\n",
       "BsmtFinSF1       0.386420\n",
       "LotFrontage      0.351799\n",
       "WoodDeckSF       0.324413\n",
       "2ndFlrSF         0.319334\n",
       "OpenPorchSF      0.315856\n",
       "HalfBath         0.284108\n",
       "LotArea          0.263843\n",
       "BsmtFullBath     0.227122\n",
       "BsmtUnfSF        0.214479\n",
       "BedroomAbvGr     0.168213\n",
       "ScreenPorch      0.111447\n",
       "PoolArea         0.092404\n",
       "MoSold           0.046432\n",
       "3SsnPorch        0.044584\n",
       "BsmtFinSF2      -0.011378\n",
       "BsmtHalfBath    -0.016844\n",
       "MiscVal         -0.021190\n",
       "Id              -0.021917\n",
       "LowQualFinSF    -0.025606\n",
       "YrSold          -0.028923\n",
       "OverallCond     -0.077856\n",
       "MSSubClass      -0.084284\n",
       "EnclosedPorch   -0.128578\n",
       "KitchenAbvGr    -0.135907\n",
       "Name: SalePrice, dtype: float64"
      ]
     },
     "execution_count": 10,
     "metadata": {},
     "output_type": "execute_result"
    }
   ],
   "source": [
    "corr_mat['SalePrice'].sort_values(ascending=False)"
   ]
  },
  {
   "cell_type": "code",
   "execution_count": 196,
   "metadata": {},
   "outputs": [
    {
     "data": {
      "text/html": [
       "<div>\n",
       "<style scoped>\n",
       "    .dataframe tbody tr th:only-of-type {\n",
       "        vertical-align: middle;\n",
       "    }\n",
       "\n",
       "    .dataframe tbody tr th {\n",
       "        vertical-align: top;\n",
       "    }\n",
       "\n",
       "    .dataframe thead th {\n",
       "        text-align: right;\n",
       "    }\n",
       "</style>\n",
       "<table border=\"1\" class=\"dataframe\">\n",
       "  <thead>\n",
       "    <tr style=\"text-align: right;\">\n",
       "      <th></th>\n",
       "      <th>OverallQual</th>\n",
       "      <th>GrLivArea</th>\n",
       "      <th>GarageCars</th>\n",
       "      <th>GarageArea</th>\n",
       "      <th>TotalBsmtSF</th>\n",
       "      <th>SalePrice</th>\n",
       "    </tr>\n",
       "  </thead>\n",
       "  <tbody>\n",
       "    <tr>\n",
       "      <th>count</th>\n",
       "      <td>1460.000000</td>\n",
       "      <td>1460.000000</td>\n",
       "      <td>1460.000000</td>\n",
       "      <td>1460.000000</td>\n",
       "      <td>1460.000000</td>\n",
       "      <td>1460.000000</td>\n",
       "    </tr>\n",
       "    <tr>\n",
       "      <th>mean</th>\n",
       "      <td>6.099315</td>\n",
       "      <td>1515.463699</td>\n",
       "      <td>1.767123</td>\n",
       "      <td>472.980137</td>\n",
       "      <td>1057.429452</td>\n",
       "      <td>180921.195890</td>\n",
       "    </tr>\n",
       "    <tr>\n",
       "      <th>std</th>\n",
       "      <td>1.382997</td>\n",
       "      <td>525.480383</td>\n",
       "      <td>0.747315</td>\n",
       "      <td>213.804841</td>\n",
       "      <td>438.705324</td>\n",
       "      <td>79442.502883</td>\n",
       "    </tr>\n",
       "    <tr>\n",
       "      <th>min</th>\n",
       "      <td>1.000000</td>\n",
       "      <td>334.000000</td>\n",
       "      <td>0.000000</td>\n",
       "      <td>0.000000</td>\n",
       "      <td>0.000000</td>\n",
       "      <td>34900.000000</td>\n",
       "    </tr>\n",
       "    <tr>\n",
       "      <th>25%</th>\n",
       "      <td>5.000000</td>\n",
       "      <td>1129.500000</td>\n",
       "      <td>1.000000</td>\n",
       "      <td>334.500000</td>\n",
       "      <td>795.750000</td>\n",
       "      <td>129975.000000</td>\n",
       "    </tr>\n",
       "    <tr>\n",
       "      <th>50%</th>\n",
       "      <td>6.000000</td>\n",
       "      <td>1464.000000</td>\n",
       "      <td>2.000000</td>\n",
       "      <td>480.000000</td>\n",
       "      <td>991.500000</td>\n",
       "      <td>163000.000000</td>\n",
       "    </tr>\n",
       "    <tr>\n",
       "      <th>75%</th>\n",
       "      <td>7.000000</td>\n",
       "      <td>1776.750000</td>\n",
       "      <td>2.000000</td>\n",
       "      <td>576.000000</td>\n",
       "      <td>1298.250000</td>\n",
       "      <td>214000.000000</td>\n",
       "    </tr>\n",
       "    <tr>\n",
       "      <th>max</th>\n",
       "      <td>10.000000</td>\n",
       "      <td>5642.000000</td>\n",
       "      <td>4.000000</td>\n",
       "      <td>1418.000000</td>\n",
       "      <td>6110.000000</td>\n",
       "      <td>755000.000000</td>\n",
       "    </tr>\n",
       "  </tbody>\n",
       "</table>\n",
       "</div>"
      ],
      "text/plain": [
       "       OverallQual    GrLivArea   GarageCars   GarageArea  TotalBsmtSF  \\\n",
       "count  1460.000000  1460.000000  1460.000000  1460.000000  1460.000000   \n",
       "mean      6.099315  1515.463699     1.767123   472.980137  1057.429452   \n",
       "std       1.382997   525.480383     0.747315   213.804841   438.705324   \n",
       "min       1.000000   334.000000     0.000000     0.000000     0.000000   \n",
       "25%       5.000000  1129.500000     1.000000   334.500000   795.750000   \n",
       "50%       6.000000  1464.000000     2.000000   480.000000   991.500000   \n",
       "75%       7.000000  1776.750000     2.000000   576.000000  1298.250000   \n",
       "max      10.000000  5642.000000     4.000000  1418.000000  6110.000000   \n",
       "\n",
       "           SalePrice  \n",
       "count    1460.000000  \n",
       "mean   180921.195890  \n",
       "std     79442.502883  \n",
       "min     34900.000000  \n",
       "25%    129975.000000  \n",
       "50%    163000.000000  \n",
       "75%    214000.000000  \n",
       "max    755000.000000  "
      ]
     },
     "execution_count": 196,
     "metadata": {},
     "output_type": "execute_result"
    }
   ],
   "source": [
    "house = df[['OverallQual', 'GrLivArea', 'GarageCars','GarageArea','TotalBsmtSF', 'SalePrice']]\n",
    "test_modelo = test[['OverallQual', 'GrLivArea', 'GarageCars','GarageArea','TotalBsmtSF']]\n",
    "x = df[['OverallQual', 'GrLivArea', 'GarageCars','GarageArea','TotalBsmtSF']]\n",
    "y = df['SalePrice']\n",
    "house.describe()"
   ]
  },
  {
   "cell_type": "code",
   "execution_count": 186,
   "metadata": {},
   "outputs": [
    {
     "data": {
      "text/plain": [
       "OverallQual    0\n",
       "GrLivArea      0\n",
       "GarageCars     0\n",
       "GarageArea     0\n",
       "TotalBsmtSF    0\n",
       "SalePrice      0\n",
       "dtype: int64"
      ]
     },
     "execution_count": 186,
     "metadata": {},
     "output_type": "execute_result"
    }
   ],
   "source": [
    "house.isnull().sum()"
   ]
  },
  {
   "cell_type": "code",
   "execution_count": 187,
   "metadata": {},
   "outputs": [
    {
     "data": {
      "text/plain": [
       "OverallQual    0\n",
       "GrLivArea      0\n",
       "GarageCars     0\n",
       "GarageArea     0\n",
       "TotalBsmtSF    0\n",
       "SalePrice      0\n",
       "dtype: int64"
      ]
     },
     "execution_count": 187,
     "metadata": {},
     "output_type": "execute_result"
    }
   ],
   "source": [
    "house.isna().sum()"
   ]
  },
  {
   "cell_type": "code",
   "execution_count": 189,
   "metadata": {},
   "outputs": [
    {
     "data": {
      "text/plain": [
       "<matplotlib.axes._subplots.AxesSubplot at 0x7f9ca5418358>"
      ]
     },
     "execution_count": 189,
     "metadata": {},
     "output_type": "execute_result"
    },
    {
     "data": {
      "image/png": "[encoded data removed]",
      "text/plain": [
       "<Figure size 432x288 with 1 Axes>"
      ]
     },
     "metadata": {
      "needs_background": "light"
     },
     "output_type": "display_data"
    }
   ],
   "source": [
    "house.plot(kind='scatter',x='SalePrice', y='OverallQual')"
   ]
  },
  {
   "cell_type": "code",
   "execution_count": 37,
   "metadata": {},
   "outputs": [],
   "source": [
    "from sklearn.linear_model import LinearRegression\n",
    "\n",
    "lin_reg = LinearRegression()"
   ]
  },
  {
   "cell_type": "code",
   "execution_count": 190,
   "metadata": {},
   "outputs": [
    {
     "data": {
      "text/plain": [
       "LinearRegression(copy_X=True, fit_intercept=True, n_jobs=None,\n",
       "         normalize=False)"
      ]
     },
     "execution_count": 190,
     "metadata": {},
     "output_type": "execute_result"
    }
   ],
   "source": [
    "lin_reg.fit(x,y)"
   ]
  },
  {
   "cell_type": "code",
   "execution_count": 191,
   "metadata": {},
   "outputs": [
    {
     "data": {
      "text/plain": [
       "-99072.05038623852"
      ]
     },
     "execution_count": 191,
     "metadata": {},
     "output_type": "execute_result"
    }
   ],
   "source": [
    "lin_reg.intercept_"
   ]
  },
  {
   "cell_type": "code",
   "execution_count": 197,
   "metadata": {},
   "outputs": [],
   "source": [
    "test_modelo.fillna(0, inplace=True)"
   ]
  },
  {
   "cell_type": "code",
   "execution_count": 198,
   "metadata": {},
   "outputs": [
    {
     "data": {
      "text/plain": [
       "OverallQual    0\n",
       "GrLivArea      0\n",
       "GarageCars     0\n",
       "GarageArea     0\n",
       "TotalBsmtSF    0\n",
       "dtype: int64"
      ]
     },
     "execution_count": 198,
     "metadata": {},
     "output_type": "execute_result"
    }
   ],
   "source": [
    "test_modelo.isna().sum()"
   ]
  },
  {
   "cell_type": "code",
   "execution_count": 199,
   "metadata": {},
   "outputs": [
    {
     "data": {
      "text/plain": [
       "array([114568.83751429, 164757.9875673 , 159551.62764989, ...,\n",
       "       152121.54494302,  91817.78050759, 243209.76854418])"
      ]
     },
     "execution_count": 199,
     "metadata": {},
     "output_type": "execute_result"
    }
   ],
   "source": [
    "reg = lin_reg.predict(test_modelo)\n",
    "reg"
   ]
  },
  {
   "cell_type": "code",
   "execution_count": 78,
   "metadata": {},
   "outputs": [],
   "source": [
    "test['SalePrice'] = reg\n",
    "sample_test = pd.DataFrame(test['SalePrice'])\n",
    "sample_test.index = test['Id']\n",
    "sample_test.to_csv('sample_submission3.csv')"
   ]
  },
  {
   "cell_type": "code",
   "execution_count": 46,
   "metadata": {},
   "outputs": [
    {
     "data": {
      "text/plain": [
       "(1460, 81)"
      ]
     },
     "execution_count": 46,
     "metadata": {},
     "output_type": "execute_result"
    }
   ],
   "source": [
    "train.shape"
   ]
  },
  {
   "cell_type": "code",
   "execution_count": 197,
   "metadata": {},
   "outputs": [],
   "source": [
    "preco = train.iloc[:,80]\n",
    "df = train.iloc[:,:80]\n",
    "df_test = test.iloc[:,:7]"
   ]
  },
  {
   "cell_type": "code",
   "execution_count": 199,
   "metadata": {},
   "outputs": [],
   "source": [
    "# MSZoning: Identifies the general zoning classification of the sale.\n",
    "class_zoneam = {'A':0, 'C':1, 'FV':2, 'I':3, 'RH':4,'RL':5,'RP':6,'RM':7}\n",
    "df['MSZoning'] = df['MSZoning'].map(class_zoneam)\n",
    "df['MSZoning'] = df['MSZoning'].fillna(8)\n",
    "\n",
    "# steet Grvl,Pave\n",
    "acesso = {'Grvl':0,'Pave':1}\n",
    "df['Street'] = df['Street'].map(acesso)\n",
    "\n",
    "# Tipo de acesso da propriedade\n",
    "tipoAcesso = {'Grvl':0, 'Pave':1}\n",
    "df['Alley'] = df['Alley'].map(tipoAcesso)\n",
    "df['Alley'] = df['Alley'].fillna(3)\n",
    "\n",
    "df['LotFrontage'] = df['LotFrontage'].fillna(0)"
   ]
  },
  {
   "cell_type": "code",
   "execution_count": 200,
   "metadata": {},
   "outputs": [],
   "source": [
    "# MSZoning: Identifies the general zoning classification of the sale.\n",
    "df_test['MSZoning'] = df_test['MSZoning'].map(class_zoneam)\n",
    "df_test['MSZoning'] = df_test['MSZoning'].fillna(8)\n",
    "\n",
    "# steet Grvl,Pave\n",
    "df_test['Street'] = df_test['Street'].map(acesso)\n",
    "\n",
    "# Tipo de acesso da propriedade\n",
    "df_test['Alley'] = df_test['Alley'].map(tipoAcesso)\n",
    "df_test['Alley'] = df_test['Alley'].fillna(3)\n",
    "\n",
    "df_test['LotFrontage'] = df_test['LotFrontage'].fillna(0)"
   ]
  },
  {
   "cell_type": "markdown",
   "metadata": {},
   "source": [
    "# Tratando o dataset"
   ]
  },
  {
   "cell_type": "code",
   "execution_count": 201,
   "metadata": {},
   "outputs": [],
   "source": [
    "df_trat = df.iloc[:,:7]"
   ]
  },
  {
   "cell_type": "code",
   "execution_count": 202,
   "metadata": {},
   "outputs": [
    {
     "data": {
      "text/plain": [
       "Id             0\n",
       "MSSubClass     0\n",
       "MSZoning       0\n",
       "LotFrontage    0\n",
       "LotArea        0\n",
       "Street         0\n",
       "Alley          0\n",
       "dtype: int64"
      ]
     },
     "execution_count": 202,
     "metadata": {},
     "output_type": "execute_result"
    }
   ],
   "source": [
    "df_trat.isnull().sum()"
   ]
  },
  {
   "cell_type": "code",
   "execution_count": 187,
   "metadata": {},
   "outputs": [
    {
     "data": {
      "text/plain": [
       "LinearRegression(copy_X=True, fit_intercept=True, n_jobs=None,\n",
       "         normalize=False)"
      ]
     },
     "execution_count": 187,
     "metadata": {},
     "output_type": "execute_result"
    }
   ],
   "source": [
    "lin_reg.fit(df_trat, preco)"
   ]
  },
  {
   "cell_type": "code",
   "execution_count": 204,
   "metadata": {},
   "outputs": [],
   "source": [
    "reg_trat = lin_reg.predict(df_test)"
   ]
  },
  {
   "cell_type": "code",
   "execution_count": 208,
   "metadata": {},
   "outputs": [],
   "source": [
    "test['SalePrice'] = reg_trat\n",
    "sample_test = pd.DataFrame(test['SalePrice'])\n",
    "sample_test.index = test['Id']\n",
    "sample_test.to_csv('sample_submission4.csv')"
   ]
  },
  {
   "cell_type": "code",
   "execution_count": 209,
   "metadata": {},
   "outputs": [
    {
     "data": {
      "text/html": [
       "<div>\n",
       "<style scoped>\n",
       "    .dataframe tbody tr th:only-of-type {\n",
       "        vertical-align: middle;\n",
       "    }\n",
       "\n",
       "    .dataframe tbody tr th {\n",
       "        vertical-align: top;\n",
       "    }\n",
       "\n",
       "    .dataframe thead th {\n",
       "        text-align: right;\n",
       "    }\n",
       "</style>\n",
       "<table border=\"1\" class=\"dataframe\">\n",
       "  <thead>\n",
       "    <tr style=\"text-align: right;\">\n",
       "      <th></th>\n",
       "      <th>SalePrice</th>\n",
       "    </tr>\n",
       "    <tr>\n",
       "      <th>Id</th>\n",
       "      <th></th>\n",
       "    </tr>\n",
       "  </thead>\n",
       "  <tbody>\n",
       "    <tr>\n",
       "      <th>1461</th>\n",
       "      <td>212520.797064</td>\n",
       "    </tr>\n",
       "    <tr>\n",
       "      <th>1462</th>\n",
       "      <td>199318.753539</td>\n",
       "    </tr>\n",
       "    <tr>\n",
       "      <th>1463</th>\n",
       "      <td>197296.838386</td>\n",
       "    </tr>\n",
       "    <tr>\n",
       "      <th>1464</th>\n",
       "      <td>191528.548617</td>\n",
       "    </tr>\n",
       "    <tr>\n",
       "      <th>1465</th>\n",
       "      <td>170350.265620</td>\n",
       "    </tr>\n",
       "    <tr>\n",
       "      <th>1466</th>\n",
       "      <td>190354.700434</td>\n",
       "    </tr>\n",
       "    <tr>\n",
       "      <th>1467</th>\n",
       "      <td>154604.153519</td>\n",
       "    </tr>\n",
       "    <tr>\n",
       "      <th>1468</th>\n",
       "      <td>182449.516060</td>\n",
       "    </tr>\n",
       "    <tr>\n",
       "      <th>1469</th>\n",
       "      <td>193073.299299</td>\n",
       "    </tr>\n",
       "    <tr>\n",
       "      <th>1470</th>\n",
       "      <td>183620.910027</td>\n",
       "    </tr>\n",
       "    <tr>\n",
       "      <th>1471</th>\n",
       "      <td>183778.642752</td>\n",
       "    </tr>\n",
       "    <tr>\n",
       "      <th>1472</th>\n",
       "      <td>119394.064045</td>\n",
       "    </tr>\n",
       "    <tr>\n",
       "      <th>1473</th>\n",
       "      <td>119390.829492</td>\n",
       "    </tr>\n",
       "    <tr>\n",
       "      <th>1474</th>\n",
       "      <td>159082.200472</td>\n",
       "    </tr>\n",
       "    <tr>\n",
       "      <th>1475</th>\n",
       "      <td>157438.456259</td>\n",
       "    </tr>\n",
       "    <tr>\n",
       "      <th>1476</th>\n",
       "      <td>206681.929112</td>\n",
       "    </tr>\n",
       "    <tr>\n",
       "      <th>1477</th>\n",
       "      <td>201860.692202</td>\n",
       "    </tr>\n",
       "    <tr>\n",
       "      <th>1478</th>\n",
       "      <td>197634.213566</td>\n",
       "    </tr>\n",
       "    <tr>\n",
       "      <th>1479</th>\n",
       "      <td>198179.703541</td>\n",
       "    </tr>\n",
       "    <tr>\n",
       "      <th>1480</th>\n",
       "      <td>211015.721790</td>\n",
       "    </tr>\n",
       "    <tr>\n",
       "      <th>1481</th>\n",
       "      <td>209392.191147</td>\n",
       "    </tr>\n",
       "    <tr>\n",
       "      <th>1482</th>\n",
       "      <td>173562.781490</td>\n",
       "    </tr>\n",
       "    <tr>\n",
       "      <th>1483</th>\n",
       "      <td>215007.075153</td>\n",
       "    </tr>\n",
       "    <tr>\n",
       "      <th>1484</th>\n",
       "      <td>166837.435112</td>\n",
       "    </tr>\n",
       "    <tr>\n",
       "      <th>1485</th>\n",
       "      <td>194208.619698</td>\n",
       "    </tr>\n",
       "    <tr>\n",
       "      <th>1486</th>\n",
       "      <td>182726.471920</td>\n",
       "    </tr>\n",
       "    <tr>\n",
       "      <th>1487</th>\n",
       "      <td>198475.635087</td>\n",
       "    </tr>\n",
       "    <tr>\n",
       "      <th>1488</th>\n",
       "      <td>185896.485977</td>\n",
       "    </tr>\n",
       "    <tr>\n",
       "      <th>1489</th>\n",
       "      <td>249994.069491</td>\n",
       "    </tr>\n",
       "    <tr>\n",
       "      <th>1490</th>\n",
       "      <td>249111.704495</td>\n",
       "    </tr>\n",
       "    <tr>\n",
       "      <th>...</th>\n",
       "      <td>...</td>\n",
       "    </tr>\n",
       "    <tr>\n",
       "      <th>2890</th>\n",
       "      <td>131414.660658</td>\n",
       "    </tr>\n",
       "    <tr>\n",
       "      <th>2891</th>\n",
       "      <td>146199.041383</td>\n",
       "    </tr>\n",
       "    <tr>\n",
       "      <th>2892</th>\n",
       "      <td>130620.554233</td>\n",
       "    </tr>\n",
       "    <tr>\n",
       "      <th>2893</th>\n",
       "      <td>123072.185990</td>\n",
       "    </tr>\n",
       "    <tr>\n",
       "      <th>2894</th>\n",
       "      <td>23960.889438</td>\n",
       "    </tr>\n",
       "    <tr>\n",
       "      <th>2895</th>\n",
       "      <td>129005.670465</td>\n",
       "    </tr>\n",
       "    <tr>\n",
       "      <th>2896</th>\n",
       "      <td>126561.386247</td>\n",
       "    </tr>\n",
       "    <tr>\n",
       "      <th>2897</th>\n",
       "      <td>207676.312352</td>\n",
       "    </tr>\n",
       "    <tr>\n",
       "      <th>2898</th>\n",
       "      <td>179828.270035</td>\n",
       "    </tr>\n",
       "    <tr>\n",
       "      <th>2899</th>\n",
       "      <td>180370.088777</td>\n",
       "    </tr>\n",
       "    <tr>\n",
       "      <th>2900</th>\n",
       "      <td>214811.304983</td>\n",
       "    </tr>\n",
       "    <tr>\n",
       "      <th>2901</th>\n",
       "      <td>230642.149088</td>\n",
       "    </tr>\n",
       "    <tr>\n",
       "      <th>2902</th>\n",
       "      <td>150188.574423</td>\n",
       "    </tr>\n",
       "    <tr>\n",
       "      <th>2903</th>\n",
       "      <td>199059.137256</td>\n",
       "    </tr>\n",
       "    <tr>\n",
       "      <th>2904</th>\n",
       "      <td>192324.568229</td>\n",
       "    </tr>\n",
       "    <tr>\n",
       "      <th>2905</th>\n",
       "      <td>188914.564999</td>\n",
       "    </tr>\n",
       "    <tr>\n",
       "      <th>2906</th>\n",
       "      <td>145093.332620</td>\n",
       "    </tr>\n",
       "    <tr>\n",
       "      <th>2907</th>\n",
       "      <td>124702.489787</td>\n",
       "    </tr>\n",
       "    <tr>\n",
       "      <th>2908</th>\n",
       "      <td>177525.473712</td>\n",
       "    </tr>\n",
       "    <tr>\n",
       "      <th>2909</th>\n",
       "      <td>160196.222873</td>\n",
       "    </tr>\n",
       "    <tr>\n",
       "      <th>2910</th>\n",
       "      <td>115160.817102</td>\n",
       "    </tr>\n",
       "    <tr>\n",
       "      <th>2911</th>\n",
       "      <td>114364.141944</td>\n",
       "    </tr>\n",
       "    <tr>\n",
       "      <th>2912</th>\n",
       "      <td>192534.267050</td>\n",
       "    </tr>\n",
       "    <tr>\n",
       "      <th>2913</th>\n",
       "      <td>114451.522629</td>\n",
       "    </tr>\n",
       "    <tr>\n",
       "      <th>2914</th>\n",
       "      <td>114434.880962</td>\n",
       "    </tr>\n",
       "    <tr>\n",
       "      <th>2915</th>\n",
       "      <td>115216.920178</td>\n",
       "    </tr>\n",
       "    <tr>\n",
       "      <th>2916</th>\n",
       "      <td>115133.242946</td>\n",
       "    </tr>\n",
       "    <tr>\n",
       "      <th>2917</th>\n",
       "      <td>237443.483945</td>\n",
       "    </tr>\n",
       "    <tr>\n",
       "      <th>2918</th>\n",
       "      <td>182286.860197</td>\n",
       "    </tr>\n",
       "    <tr>\n",
       "      <th>2919</th>\n",
       "      <td>184537.314242</td>\n",
       "    </tr>\n",
       "  </tbody>\n",
       "</table>\n",
       "<p>1459 rows × 1 columns</p>\n",
       "</div>"
      ],
      "text/plain": [
       "          SalePrice\n",
       "Id                 \n",
       "1461  212520.797064\n",
       "1462  199318.753539\n",
       "1463  197296.838386\n",
       "1464  191528.548617\n",
       "1465  170350.265620\n",
       "1466  190354.700434\n",
       "1467  154604.153519\n",
       "1468  182449.516060\n",
       "1469  193073.299299\n",
       "1470  183620.910027\n",
       "1471  183778.642752\n",
       "1472  119394.064045\n",
       "1473  119390.829492\n",
       "1474  159082.200472\n",
       "1475  157438.456259\n",
       "1476  206681.929112\n",
       "1477  201860.692202\n",
       "1478  197634.213566\n",
       "1479  198179.703541\n",
       "1480  211015.721790\n",
       "1481  209392.191147\n",
       "1482  173562.781490\n",
       "1483  215007.075153\n",
       "1484  166837.435112\n",
       "1485  194208.619698\n",
       "1486  182726.471920\n",
       "1487  198475.635087\n",
       "1488  185896.485977\n",
       "1489  249994.069491\n",
       "1490  249111.704495\n",
       "...             ...\n",
       "2890  131414.660658\n",
       "2891  146199.041383\n",
       "2892  130620.554233\n",
       "2893  123072.185990\n",
       "2894   23960.889438\n",
       "2895  129005.670465\n",
       "2896  126561.386247\n",
       "2897  207676.312352\n",
       "2898  179828.270035\n",
       "2899  180370.088777\n",
       "2900  214811.304983\n",
       "2901  230642.149088\n",
       "2902  150188.574423\n",
       "2903  199059.137256\n",
       "2904  192324.568229\n",
       "2905  188914.564999\n",
       "2906  145093.332620\n",
       "2907  124702.489787\n",
       "2908  177525.473712\n",
       "2909  160196.222873\n",
       "2910  115160.817102\n",
       "2911  114364.141944\n",
       "2912  192534.267050\n",
       "2913  114451.522629\n",
       "2914  114434.880962\n",
       "2915  115216.920178\n",
       "2916  115133.242946\n",
       "2917  237443.483945\n",
       "2918  182286.860197\n",
       "2919  184537.314242\n",
       "\n",
       "[1459 rows x 1 columns]"
      ]
     },
     "execution_count": 209,
     "metadata": {},
     "output_type": "execute_result"
    }
   ],
   "source": [
    "sample_test"
   ]
  }
 ],
 "metadata": {
  "kernelspec": {
   "display_name": "Python 3",
   "language": "python",
   "name": "python3"
  },
  "language_info": {
   "codemirror_mode": {
    "name": "ipython",
    "version": 3
   },
   "file_extension": ".py",
   "mimetype": "text/x-python",
   "name": "python",
   "nbconvert_exporter": "python",
   "pygments_lexer": "ipython3",
   "version": "3.7.3"
  }
 },
 "nbformat": 4,
 "nbformat_minor": 2
}
